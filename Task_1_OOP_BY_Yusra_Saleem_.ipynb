{
  "nbformat": 4,
  "nbformat_minor": 0,
  "metadata": {
    "colab": {
      "provenance": [],
      "authorship_tag": "ABX9TyMBh2CRAnLM1244YW4zOQG0",
      "include_colab_link": true
    },
    "kernelspec": {
      "name": "python3",
      "display_name": "Python 3"
    },
    "language_info": {
      "name": "python"
    }
  },
  "cells": [
    {
      "cell_type": "markdown",
      "metadata": {
        "id": "view-in-github",
        "colab_type": "text"
      },
      "source": [
        "<a href=\"https://colab.research.google.com/github/MuzaffarAli13/7-Days-OOP-Practice-in-Python/blob/main/Task_1_OOP_BY_Yusra_Saleem_.ipynb\" target=\"_parent\"><img src=\"https://colab.research.google.com/assets/colab-badge.svg\" alt=\"Open In Colab\"/></a>"
      ]
    },
    {
      "cell_type": "code",
      "execution_count": 13,
      "metadata": {
        "colab": {
          "base_uri": "https://localhost:8080/"
        },
        "id": "-6llmBFy5mFS",
        "outputId": "63052df8-5269-4896-b1e6-3a71563939a6"
      },
      "outputs": [
        {
          "output_type": "stream",
          "name": "stdout",
          "text": [
            "Student Detail \n",
            "    \n",
            "    Name : Muzaffar Ali\n",
            "    Age : 18\n",
            "    Grade : A\n",
            "    \n"
          ]
        }
      ],
      "source": [
        "class Student():\n",
        "  def __init__(self,name:str, age:int, grade:str)->None:\n",
        "    self.name = name\n",
        "    self.age = age\n",
        "    self.grade = grade\n",
        "\n",
        "  def get_details(self)->None:\n",
        "    print(f\"\"\"Student Detail\n",
        "\n",
        "    Name : {self.name}\n",
        "    Age : {self.age}\n",
        "    Grade : {self.grade}\n",
        "    \"\"\")\n",
        "\n",
        "std1 = Student(\"Muzaffar Ali\",18,\"A\")\n",
        "std1.get_details()"
      ]
    }
  ]
}