{
  "nbformat": 4,
  "nbformat_minor": 0,
  "metadata": {
    "colab": {
      "provenance": [],
      "authorship_tag": "ABX9TyMSfYZKnho/0imHk+iDBueU",
      "include_colab_link": true
    },
    "kernelspec": {
      "name": "python3",
      "display_name": "Python 3"
    },
    "language_info": {
      "name": "python"
    }
  },
  "cells": [
    {
      "cell_type": "markdown",
      "metadata": {
        "id": "view-in-github",
        "colab_type": "text"
      },
      "source": [
        "<a href=\"https://colab.research.google.com/github/MuzaffarAli13/7-Days-OOP-Practice-in-Python/blob/main/Task_2_OOP_prctice_by_Yusra_Saleem.ipynb\" target=\"_parent\"><img src=\"https://colab.research.google.com/assets/colab-badge.svg\" alt=\"Open In Colab\"/></a>"
      ]
    },
    {
      "cell_type": "markdown",
      "source": [
        " # Calculator."
      ],
      "metadata": {
        "id": "qWTabR5F_2uN"
      }
    },
    {
      "cell_type": "code",
      "source": [
        "class Calculator():\n",
        "  def __init__(self,num1:int,num2:int) -> None:\n",
        "    self.num1:int = num1\n",
        "    self.num2:int = num2\n",
        "\n",
        "  def add(self):\n",
        "    return self.num1 + self.num2\n",
        "\n",
        "  def subtract(self):\n",
        "    return self.num1 - self.num2\n",
        "\n",
        "  def multiply(self):\n",
        "    return self.num1 * self.num2\n",
        "\n",
        "  def divide(self):\n",
        "     try:\n",
        "       return self.num1 // self.num2\n",
        "     except ZeroDivisionError:\n",
        "       return \"Cannot divide by zero.\"\n",
        "\n",
        "\n",
        " # Method to display all results by calling other methods\n",
        "  def show_all(self):\n",
        "   print(f\"{self.num1} + {self.num2} = {self.add()}\")\n",
        "   print(f\"{self.num1} - {self.num2} = {self.subtract()}\")\n",
        "   print(f\"{self.num1} * {self.num2} = {self.multiply()}\")\n",
        "   print(f\"{self.num1} / {self.num2} = {self.divide()}\")\n",
        "\n",
        "# Creating first object with values 10 and 2\n",
        "c1 = Calculator(10,2)\n",
        "c1.show_all()\n",
        "\n",
        "print(\"-\"*20)\n",
        "\n",
        "# Bonus Twist: Creating second object with different values\n",
        "c2 = Calculator(15,5)\n",
        "c2.show_all()\n",
        "\n",
        "print(\"--\"*10)\n",
        "\n",
        "# Bonus Twist: Taking user input (optional)\n",
        "num1 = int(input(\"Enter First Number: \"))\n",
        "num2 = int(input(\"Enter Second Number: \"))\n",
        "\n",
        "print(\"-\"*20)\n",
        "c3 = Calculator(num1,num2)\n",
        "c3.show_all()"
      ],
      "metadata": {
        "colab": {
          "base_uri": "https://localhost:8080/"
        },
        "id": "IhxmV6nO_5Nn",
        "outputId": "74f32c25-20aa-46f8-8eaf-017ee6573173"
      },
      "execution_count": 21,
      "outputs": [
        {
          "output_type": "stream",
          "name": "stdout",
          "text": [
            "10 + 2 = 12\n",
            "10 - 2 = 8\n",
            "10 * 2 = 20\n",
            "10 / 2 = 5\n",
            "--------------------\n",
            "15 + 5 = 20\n",
            "15 - 5 = 10\n",
            "15 * 5 = 75\n",
            "15 / 5 = 3\n",
            "--------------------\n",
            "Enter First Number: 10\n",
            "Enter Second Number: 2\n",
            "--------------------\n",
            "10 + 2 = 12\n",
            "10 - 2 = 8\n",
            "10 * 2 = 20\n",
            "10 / 2 = 5\n"
          ]
        }
      ]
    }
  ]
}