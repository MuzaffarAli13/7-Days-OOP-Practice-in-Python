{
  "nbformat": 4,
  "nbformat_minor": 0,
  "metadata": {
    "colab": {
      "private_outputs": true,
      "provenance": [],
      "authorship_tag": "ABX9TyOG0MYLegKMBbyJalcz21I8",
      "include_colab_link": true
    },
    "kernelspec": {
      "name": "python3",
      "display_name": "Python 3"
    },
    "language_info": {
      "name": "python"
    }
  },
  "cells": [
    {
      "cell_type": "markdown",
      "metadata": {
        "id": "view-in-github",
        "colab_type": "text"
      },
      "source": [
        "<a href=\"https://colab.research.google.com/github/MuzaffarAli13/7-Days-OOP-Practice-in-Python/blob/main/Task_3.ipynb\" target=\"_parent\"><img src=\"https://colab.research.google.com/assets/colab-badge.svg\" alt=\"Open In Colab\"/></a>"
      ]
    },
    {
      "cell_type": "code",
      "execution_count": null,
      "metadata": {
        "id": "97nqnPh74J5r"
      },
      "outputs": [],
      "source": [
        "class BankAccount():\n",
        "  def __init__(self, account_holder: str, balance: int = 0):\n",
        "    self.account_holder: str = account_holder\n",
        "    self.__balance = balance\n",
        "\n",
        "  def deposit(self, amount):\n",
        "    if amount > 0:\n",
        "      self.__balance += amount\n",
        "      print(f\"Rs. {amount} has been deposited into your account.\")\n",
        "    else:\n",
        "      print(\"Please enter a positive amount.\")\n",
        "\n",
        "  def withdraw(self, amount):\n",
        "    if amount <= self.__balance:\n",
        "      self.__balance -= amount\n",
        "      print(f\"Rs. {amount} has been withdrawn from your account.\")\n",
        "    else:\n",
        "      print(\"Insufficient balance.\")\n",
        "\n",
        "  def get_balance(self):\n",
        "    return f\"Your current balance is: Rs. {self.__balance}\"\n",
        "\n",
        "  def set_balance(self, amount):\n",
        "    if amount >= 0:\n",
        "      self.__balance = amount\n",
        "    else:\n",
        "      print(\"Please enter a positive amount.\")\n",
        "\n",
        "  def account_summary(self):\n",
        "    print(f\"Account Holder: {self.account_holder}\\nCurrent Balance: Rs. {self.__balance}\")\n",
        "\n",
        "# Account 1\n",
        "print(\"Account 1\")\n",
        "acc1 = BankAccount(\"Muzaffar Ali\")\n",
        "print(acc1.account_holder)\n",
        "print(acc1.get_balance())\n",
        "acc1.deposit(500)\n",
        "print(acc1.get_balance())\n",
        "acc1.withdraw(200)\n",
        "print(acc1.get_balance())\n",
        "print(\"-\" * 20)\n",
        "\n",
        "# Account 2\n",
        "print(\"Account 2\")\n",
        "acc2 = BankAccount(\"Ali\")\n",
        "print(acc2.account_holder)\n",
        "acc2.deposit(-110)\n",
        "acc2.account_summary()\n"
      ]
    }
  ]
}